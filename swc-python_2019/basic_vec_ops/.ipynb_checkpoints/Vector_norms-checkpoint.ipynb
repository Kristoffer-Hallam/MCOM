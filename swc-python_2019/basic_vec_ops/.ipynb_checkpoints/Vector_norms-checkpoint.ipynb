{
 "cells": [
  {
   "cell_type": "markdown",
   "metadata": {},
   "source": [
    "### Vector norms\n",
    "\n",
    "Definition\n",
    "\n",
    "let x be a $N \\times 1$ vector given by:\n",
    "\\begin{equation}\n",
    "\\mathbf{x} = \n",
    "\\begin{bmatrix}\n",
    "x_1 \\\\ x_2 \\\\ \\vdots \\\\ x_N\n",
    "\\end{bmatrix}\n",
    "\\end{equation}\n",
    "\n",
    "The called *p-norms* are functions as follows:\n",
    "\\begin{equation}\n",
    "\\mathbf{f}_p(\\mathbf{x}) = \\parallel \\mathbf{x} \\parallel_p =\n",
    "\\left( |x_1|^p + \\cdots + |x_N|^p\\right)^{1/p}, \\qquad p \\geq 1\n",
    "\\end{equation}"
   ]
  },
  {
   "cell_type": "code",
   "execution_count": null,
   "metadata": {},
   "outputs": [],
   "source": [
    "import numpy as np\n",
    "import my_functions as mf"
   ]
  },
  {
   "cell_type": "code",
   "execution_count": null,
   "metadata": {},
   "outputs": [],
   "source": [
    "def vec_norm(x, p):\n",
    "    '''Calculates the p-norm of a vector\n",
    "    \n",
    "    input >\n",
    "    x:    1D array - vector\n",
    "    p:    int      - p value\n",
    "    \n",
    "    output >\n",
    "    norm: scalar function\n",
    "    '''\n",
    "    assert type(p) == int, 'p value is not an integer'\n",
    "    assert 0 <= p <= 2, 'p value must be in the inteval [0,2]'\n",
    "    if p == 0:\n",
    "        norm = np.max(x)\n",
    "    elif p == 1:\n",
    "        norm = np.sum(np.abs(x))\n",
    "    else:\n",
    "        norm = np.sqrt(mf.dot(x,x))"
   ]
  },
  {
   "cell_type": "code",
   "execution_count": null,
   "metadata": {},
   "outputs": [],
   "source": []
  }
 ],
 "metadata": {
  "kernelspec": {
   "display_name": "Python 2",
   "language": "python",
   "name": "python2"
  },
  "language_info": {
   "codemirror_mode": {
    "name": "ipython",
    "version": 2
   },
   "file_extension": ".py",
   "mimetype": "text/x-python",
   "name": "python",
   "nbconvert_exporter": "python",
   "pygments_lexer": "ipython2",
   "version": "2.7.11"
  }
 },
 "nbformat": 4,
 "nbformat_minor": 2
}
