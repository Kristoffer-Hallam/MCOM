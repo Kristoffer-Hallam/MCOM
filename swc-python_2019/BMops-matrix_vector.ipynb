{
 "cells": [
  {
   "cell_type": "markdown",
   "metadata": {},
   "source": [
    "## Matrix and vector operations\n",
    "\n",
    "Calculate vector $N \\times 1$ vector $\\mathbf{y}$ through matrix-vector product as in\n",
    "\\begin{equation}\n",
    "\\mathbf{y} = \\mathbf{A} \\mathbf{x}\n",
    "\\end{equation}\n",
    "\n",
    "where\n",
    "\\begin{equation}\n",
    "\\mathbf{A} =\n",
    "\\begin{bmatrix}\n",
    "a_{11} & \\cdots & a_{1M} \\\\\n",
    "\\vdots &  & \\vdots \\\\\n",
    "a_{N1} & \\cdots & a_{NM}\n",
    "\\end{bmatrix}_{N \\times M} =\n",
    "\\begin{bmatrix}\n",
    "A[1,:] \\\\\n",
    "\\vdots \\\\\n",
    "A[N,:]\n",
    "\\end{bmatrix}_{N \\times M} =\n",
    "\\begin{bmatrix}\n",
    "A[:,1] & \\cdots & A[:,M]\n",
    "\\end{bmatrix}_{N \\times M}\n",
    "\\end{equation}\n",
    "\n",
    "and $\\mathbf{x}$ is a $M \\times 1$ vector."
   ]
  },
  {
   "cell_type": "code",
   "execution_count": 1,
   "metadata": {},
   "outputs": [],
   "source": [
    "import numpy as np\n",
    "import my_functions as mf"
   ]
  },
  {
   "cell_type": "markdown",
   "metadata": {},
   "source": [
    "### Exercise 1"
   ]
  },
  {
   "cell_type": "code",
   "execution_count": 2,
   "metadata": {},
   "outputs": [
    {
     "name": "stdout",
     "output_type": "stream",
     "text": [
      "[[1 2 3]\n",
      " [4 5 6]\n",
      " [7 8 9]] (3, 3)\n"
     ]
    }
   ],
   "source": [
    "A = np.array([[1,2,3], [4,5,6],[7,8,9]])\n",
    "print A, A.shape"
   ]
  },
  {
   "cell_type": "code",
   "execution_count": 3,
   "metadata": {},
   "outputs": [
    {
     "name": "stdout",
     "output_type": "stream",
     "text": [
      "[1. 1. 1.] (3,)\n"
     ]
    }
   ],
   "source": [
    "x = np.ones(3)\n",
    "print x, x.shape"
   ]
  },
  {
   "cell_type": "code",
   "execution_count": 4,
   "metadata": {},
   "outputs": [
    {
     "data": {
      "text/plain": [
       "array([0., 0., 0.])"
      ]
     },
     "execution_count": 4,
     "metadata": {},
     "output_type": "execute_result"
    }
   ],
   "source": [
    "y = np.zeros_like(x)\n",
    "y"
   ]
  },
  {
   "cell_type": "code",
   "execution_count": 5,
   "metadata": {},
   "outputs": [
    {
     "name": "stdout",
     "output_type": "stream",
     "text": [
      "[[1 2 3]\n",
      " [4 5 6]\n",
      " [7 8 9]] [1. 1. 1.]\n"
     ]
    }
   ],
   "source": [
    "print A, x"
   ]
  },
  {
   "cell_type": "code",
   "execution_count": 6,
   "metadata": {},
   "outputs": [
    {
     "name": "stdout",
     "output_type": "stream",
     "text": [
      "i j y\n",
      "0 0 [1. 0. 0.]\n",
      "0 1 [3. 0. 0.]\n",
      "0 2 [6. 0. 0.]\n",
      "1 0 [6. 4. 0.]\n",
      "1 1 [6. 9. 0.]\n",
      "1 2 [ 6. 15.  0.]\n",
      "2 0 [ 6. 15.  7.]\n",
      "2 1 [ 6. 15. 15.]\n",
      "2 2 [ 6. 15. 24.]\n",
      "(3,)\n"
     ]
    }
   ],
   "source": [
    "N = 3\n",
    "M = 3\n",
    "print 'i', 'j', 'y'\n",
    "for i in range(N):\n",
    "    for j in range(M):\n",
    "        y[i] += A[i,j]*x[j]\n",
    "        print i,j,y\n",
    "print y.shape"
   ]
  },
  {
   "cell_type": "code",
   "execution_count": 7,
   "metadata": {},
   "outputs": [
    {
     "data": {
      "text/plain": [
       "array([ 6., 15., 24.])"
      ]
     },
     "execution_count": 7,
     "metadata": {},
     "output_type": "execute_result"
    }
   ],
   "source": [
    "y = mf.matvec_prod1(A, x)\n",
    "y"
   ]
  },
  {
   "cell_type": "code",
   "execution_count": 8,
   "metadata": {},
   "outputs": [
    {
     "name": "stdout",
     "output_type": "stream",
     "text": [
      "A x\n",
      "[1 2 3] [1. 1. 1.]\n",
      "0 [6. 0. 0.]\n",
      "[4 5 6] [1. 1. 1.]\n",
      "1 [ 6. 15.  0.]\n",
      "[7 8 9] [1. 1. 1.]\n",
      "2 [ 6. 15. 24.]\n"
     ]
    }
   ],
   "source": [
    "y = np.zeros_like(x)\n",
    "print 'A', 'x'\n",
    "for i in range(N):\n",
    "    print A[i,:], x\n",
    "    y[i] = np.dot(A[i,:],x)\n",
    "    print i,y\n",
    "# print y, y.shape"
   ]
  },
  {
   "cell_type": "code",
   "execution_count": 9,
   "metadata": {},
   "outputs": [
    {
     "data": {
      "text/plain": [
       "array([ 6., 15., 24.])"
      ]
     },
     "execution_count": 9,
     "metadata": {},
     "output_type": "execute_result"
    }
   ],
   "source": [
    "y = mf.matvec_prod2(A, x)\n",
    "y"
   ]
  },
  {
   "cell_type": "code",
   "execution_count": 10,
   "metadata": {},
   "outputs": [
    {
     "name": "stdout",
     "output_type": "stream",
     "text": [
      "A x\n",
      "[1 4 7] 1.0\n",
      "0 [1. 4. 7.]\n",
      "[2 5 8] 1.0\n",
      "1 [ 3.  9. 15.]\n",
      "[3 6 9] 1.0\n",
      "2 [ 6. 15. 24.]\n"
     ]
    }
   ],
   "source": [
    "y = np.zeros_like(x)\n",
    "print 'A', 'x'\n",
    "for j in range(M):\n",
    "    print A[:,j], x[j]\n",
    "    y += A[:,j]*x[j]\n",
    "    print j,y\n",
    "# print y, y.shape"
   ]
  },
  {
   "cell_type": "code",
   "execution_count": 11,
   "metadata": {},
   "outputs": [
    {
     "data": {
      "text/plain": [
       "array([ 6., 15., 24.])"
      ]
     },
     "execution_count": 11,
     "metadata": {},
     "output_type": "execute_result"
    }
   ],
   "source": [
    "y = mf.matvec_prod3(A, x)\n",
    "y"
   ]
  },
  {
   "cell_type": "markdown",
   "metadata": {},
   "source": [
    "### Exercise 2"
   ]
  },
  {
   "cell_type": "code",
   "execution_count": 12,
   "metadata": {},
   "outputs": [],
   "source": [
    "N = 5 # number of data\n",
    "ws = 3 # window size\n",
    "i0 = ws//2\n",
    "A = np.array(np.hstack( ( (1./ws)*np.ones(ws), np.zeros(N - ws + 1) ) ) )"
   ]
  },
  {
   "cell_type": "code",
   "execution_count": 13,
   "metadata": {},
   "outputs": [
    {
     "data": {
      "text/plain": [
       "array([0.33333333, 0.33333333, 0.33333333])"
      ]
     },
     "execution_count": 13,
     "metadata": {},
     "output_type": "execute_result"
    }
   ],
   "source": [
    "(1./ws)*np.ones(ws)"
   ]
  },
  {
   "cell_type": "code",
   "execution_count": 14,
   "metadata": {},
   "outputs": [
    {
     "data": {
      "text/plain": [
       "array([0., 0., 0.])"
      ]
     },
     "execution_count": 14,
     "metadata": {},
     "output_type": "execute_result"
    }
   ],
   "source": [
    "np.zeros(N - ws + 1)"
   ]
  },
  {
   "cell_type": "code",
   "execution_count": 15,
   "metadata": {},
   "outputs": [
    {
     "data": {
      "text/plain": [
       "array([0.33333333, 0.33333333, 0.33333333, 0.        , 0.        ,\n",
       "       0.        ])"
      ]
     },
     "execution_count": 15,
     "metadata": {},
     "output_type": "execute_result"
    }
   ],
   "source": [
    "np.hstack( ( (1./ws)*np.ones(ws), np.zeros(N - ws + 1) ) )"
   ]
  },
  {
   "cell_type": "code",
   "execution_count": 16,
   "metadata": {},
   "outputs": [
    {
     "data": {
      "text/plain": [
       "array([0.33333333, 0.33333333, 0.33333333, 0.        , 0.        ,\n",
       "       0.        ])"
      ]
     },
     "execution_count": 16,
     "metadata": {},
     "output_type": "execute_result"
    }
   ],
   "source": [
    "A = np.array(np.hstack( ( (1./ws)*np.ones(ws), np.zeros(N - ws + 1) ) ) )\n",
    "A"
   ]
  },
  {
   "cell_type": "code",
   "execution_count": 17,
   "metadata": {},
   "outputs": [
    {
     "data": {
      "text/plain": [
       "array([[0.33333333, 0.33333333, 0.33333333, 0.        , 0.        ],\n",
       "       [0.        , 0.33333333, 0.33333333, 0.33333333, 0.        ],\n",
       "       [0.        , 0.        , 0.33333333, 0.33333333, 0.33333333]])"
      ]
     },
     "execution_count": 17,
     "metadata": {},
     "output_type": "execute_result"
    }
   ],
   "source": [
    "A = np.resize(A, (N-2*i0, N))\n",
    "A"
   ]
  },
  {
   "cell_type": "code",
   "execution_count": 18,
   "metadata": {},
   "outputs": [
    {
     "data": {
      "text/plain": [
       "(3, 5)"
      ]
     },
     "execution_count": 18,
     "metadata": {},
     "output_type": "execute_result"
    }
   ],
   "source": [
    "(N-2*i0, N)"
   ]
  },
  {
   "cell_type": "code",
   "execution_count": 19,
   "metadata": {},
   "outputs": [
    {
     "data": {
      "text/plain": [
       "array([[0.        , 0.        , 0.        , 0.        , 0.        ],\n",
       "       [0.33333333, 0.33333333, 0.33333333, 0.        , 0.        ],\n",
       "       [0.        , 0.33333333, 0.33333333, 0.33333333, 0.        ],\n",
       "       [0.        , 0.        , 0.33333333, 0.33333333, 0.33333333],\n",
       "       [0.        , 0.        , 0.        , 0.        , 0.        ]])"
      ]
     },
     "execution_count": 19,
     "metadata": {},
     "output_type": "execute_result"
    }
   ],
   "source": [
    "A = np.vstack((np.zeros(N), A, np.zeros(N)))\n",
    "A"
   ]
  },
  {
   "cell_type": "code",
   "execution_count": 20,
   "metadata": {},
   "outputs": [],
   "source": [
    "A = np.array(np.hstack(((1./ws)*np.ones(ws), np.zeros(N - ws + 1))))\n",
    "A = np.resize(A, (N-2*i0, N))\n",
    "A = np.vstack((np.zeros(N), A, np.zeros(N)))"
   ]
  },
  {
   "cell_type": "code",
   "execution_count": 21,
   "metadata": {},
   "outputs": [
    {
     "data": {
      "text/plain": [
       "array([[0.        , 0.        , 0.        , 0.        , 0.        ],\n",
       "       [0.33333333, 0.33333333, 0.33333333, 0.        , 0.        ],\n",
       "       [0.        , 0.33333333, 0.33333333, 0.33333333, 0.        ],\n",
       "       [0.        , 0.        , 0.33333333, 0.33333333, 0.33333333],\n",
       "       [0.        , 0.        , 0.        , 0.        , 0.        ]])"
      ]
     },
     "execution_count": 21,
     "metadata": {},
     "output_type": "execute_result"
    }
   ],
   "source": [
    "A"
   ]
  },
  {
   "cell_type": "code",
   "execution_count": 22,
   "metadata": {},
   "outputs": [
    {
     "name": "stdout",
     "output_type": "stream",
     "text": [
      "[1. 1. 1.]\n",
      "[0. 1. 0.]\n"
     ]
    }
   ],
   "source": [
    "# x = np.random.randint(100, 400, size=18)\n",
    "np.random.random()\n",
    "filt = mf.mat_sma(x, 3)\n",
    "print x\n",
    "print filt"
   ]
  },
  {
   "cell_type": "markdown",
   "metadata": {},
   "source": [
    "### Exercise 3"
   ]
  },
  {
   "cell_type": "code",
   "execution_count": 23,
   "metadata": {},
   "outputs": [
    {
     "data": {
      "text/plain": [
       "1000"
      ]
     },
     "execution_count": 23,
     "metadata": {},
     "output_type": "execute_result"
    }
   ],
   "source": [
    "spacing = 2.*np.pi/1000.\n",
    "theta = np.arange(0., 2*np.pi, spacing)\n",
    "theta.size"
   ]
  },
  {
   "cell_type": "code",
   "execution_count": 24,
   "metadata": {},
   "outputs": [],
   "source": [
    "y = np.sin(theta)"
   ]
  },
  {
   "cell_type": "code",
   "execution_count": 25,
   "metadata": {},
   "outputs": [
    {
     "data": {
      "text/plain": [
       "array([0.99950656, 0.99968419, 0.99982235, 0.99992104, 0.99998026])"
      ]
     },
     "execution_count": 25,
     "metadata": {},
     "output_type": "execute_result"
    }
   ],
   "source": [
    "z_true = np.cos(theta)\n",
    "z_true[995:]"
   ]
  },
  {
   "cell_type": "code",
   "execution_count": 26,
   "metadata": {},
   "outputs": [
    {
     "data": {
      "text/plain": [
       "array([0.99949998, 0.99967761, 0.99981577, 0.99991447, 0.        ])"
      ]
     },
     "execution_count": 26,
     "metadata": {},
     "output_type": "execute_result"
    }
   ],
   "source": [
    "z_calc = mf.deriv1d(y, spacing)\n",
    "z_calc[995:]"
   ]
  },
  {
   "cell_type": "code",
   "execution_count": null,
   "metadata": {},
   "outputs": [],
   "source": []
  }
 ],
 "metadata": {
  "kernelspec": {
   "display_name": "Python 2",
   "language": "python",
   "name": "python2"
  },
  "language_info": {
   "codemirror_mode": {
    "name": "ipython",
    "version": 2
   },
   "file_extension": ".py",
   "mimetype": "text/x-python",
   "name": "python",
   "nbconvert_exporter": "python",
   "pygments_lexer": "ipython2",
   "version": "2.7.11"
  }
 },
 "nbformat": 4,
 "nbformat_minor": 2
}
