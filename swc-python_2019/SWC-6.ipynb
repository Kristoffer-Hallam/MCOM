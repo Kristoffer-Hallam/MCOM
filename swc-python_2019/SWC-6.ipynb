{
 "cells": [
  {
   "cell_type": "markdown",
   "metadata": {},
   "source": [
    "#### Combining strings"
   ]
  },
  {
   "cell_type": "code",
   "execution_count": 1,
   "metadata": {},
   "outputs": [],
   "source": [
    "import numpy as np"
   ]
  },
  {
   "cell_type": "code",
   "execution_count": 2,
   "metadata": {},
   "outputs": [],
   "source": [
    "def fence(original, wrapper):\n",
    "    return wrapper+original+wrapper"
   ]
  },
  {
   "cell_type": "code",
   "execution_count": 3,
   "metadata": {},
   "outputs": [
    {
     "data": {
      "text/plain": [
       "'KillBillKill'"
      ]
     },
     "execution_count": 3,
     "metadata": {},
     "output_type": "execute_result"
    }
   ],
   "source": [
    "fence('Bill', 'Kill')"
   ]
  },
  {
   "cell_type": "markdown",
   "metadata": {},
   "source": [
    "#### Return vs Print"
   ]
  },
  {
   "cell_type": "code",
   "execution_count": 4,
   "metadata": {},
   "outputs": [],
   "source": [
    "def add(a, b):\n",
    "    print(a + b)"
   ]
  },
  {
   "cell_type": "code",
   "execution_count": 5,
   "metadata": {},
   "outputs": [
    {
     "name": "stdout",
     "output_type": "stream",
     "text": [
      "10\n",
      "None\n"
     ]
    }
   ],
   "source": [
    "A = add(7, 3)\n",
    "print(A)"
   ]
  },
  {
   "cell_type": "markdown",
   "metadata": {},
   "source": [
    "#### Selecting Characters From Strings"
   ]
  },
  {
   "cell_type": "code",
   "execution_count": 6,
   "metadata": {},
   "outputs": [],
   "source": [
    "def outer(string):\n",
    "    return string[0]+string[-1]"
   ]
  },
  {
   "cell_type": "code",
   "execution_count": 7,
   "metadata": {},
   "outputs": [
    {
     "name": "stdout",
     "output_type": "stream",
     "text": [
      "hm\n"
     ]
    }
   ],
   "source": [
    "print outer('helium')"
   ]
  },
  {
   "cell_type": "markdown",
   "metadata": {},
   "source": [
    "#### Rescaling an array"
   ]
  },
  {
   "cell_type": "code",
   "execution_count": 8,
   "metadata": {},
   "outputs": [],
   "source": [
    "def rescale(array):\n",
    "    return array/np.max(array)"
   ]
  },
  {
   "cell_type": "code",
   "execution_count": 9,
   "metadata": {},
   "outputs": [
    {
     "data": {
      "text/plain": [
       "array([0.5729259 , 0.27695377, 0.4237423 , 0.05752446, 0.99837528,\n",
       "       0.63718582, 0.49083699, 0.1900666 , 0.05376909, 0.22455502,\n",
       "       0.52470987, 0.18470567, 0.98795096, 0.64452772, 0.42589467,\n",
       "       0.78012646, 0.76473609, 0.229369  , 0.91274881, 0.60657393,\n",
       "       0.89935059, 0.03880231, 0.66053058, 0.71590738, 0.5131616 ,\n",
       "       0.52493857, 0.51243443, 0.35522706, 0.10638717, 0.60362088,\n",
       "       0.27404621, 1.        , 0.68709055, 0.35177398, 0.99258637,\n",
       "       0.91179564, 0.87947171, 0.62032361, 0.84275672, 0.09289555,\n",
       "       0.18431526, 0.74597719, 0.1247301 , 0.40824391, 0.10854717,\n",
       "       0.36066231, 0.70340986, 0.89526015, 0.03174537, 0.36487722])"
      ]
     },
     "execution_count": 9,
     "metadata": {},
     "output_type": "execute_result"
    }
   ],
   "source": [
    "rescale(np.random.rand(50)*100)"
   ]
  },
  {
   "cell_type": "code",
   "execution_count": 10,
   "metadata": {},
   "outputs": [],
   "source": [
    "def rescale_swc(input_array):\n",
    "    L = np.min(input_array)\n",
    "    H = np.max(input_array)\n",
    "    output_array = (input_array - L) / (H - L)\n",
    "    return output_array"
   ]
  },
  {
   "cell_type": "code",
   "execution_count": 11,
   "metadata": {},
   "outputs": [
    {
     "data": {
      "text/plain": [
       "array([0.88581106, 0.88234756, 0.61248479, 0.24853853, 0.96645806,\n",
       "       0.55786422, 0.80273111, 0.06354312, 0.39297415, 0.10366037,\n",
       "       0.32231145, 0.42010524, 0.        , 0.94630716, 0.14731531,\n",
       "       0.66609553, 0.53218313, 0.76692825, 0.04514416, 0.28659359,\n",
       "       0.03533711, 0.58859618, 0.5638903 , 0.95315619, 0.42682986,\n",
       "       0.11403996, 0.1021136 , 0.90558991, 0.13769939, 0.17095223,\n",
       "       0.33612073, 1.        , 0.79272202, 0.00554032, 0.02976825,\n",
       "       0.63401816, 0.36139918, 0.58830378, 0.91246512, 0.4857173 ,\n",
       "       0.91975877, 0.182564  , 0.98284741, 0.42081787, 0.9825972 ,\n",
       "       0.92926869, 0.22386031, 0.31417589, 0.19947498, 0.58137108])"
      ]
     },
     "execution_count": 11,
     "metadata": {},
     "output_type": "execute_result"
    }
   ],
   "source": [
    "rescale_swc(np.random.rand(50)*100)"
   ]
  },
  {
   "cell_type": "markdown",
   "metadata": {},
   "source": [
    "#### Defining Defaults"
   ]
  },
  {
   "cell_type": "code",
   "execution_count": 16,
   "metadata": {},
   "outputs": [],
   "source": [
    "def rescale_swc(input_array, low_val=0., high_val=1.):\n",
    "    '''rescales input array values to lie between low_val and high_val'''\n",
    "    L = np.min(input_array)\n",
    "    H = np.max(input_array)\n",
    "#     output_array = (input_array - L) / (H - L)\n",
    "    intermed_array = (input_array - L) / (H - L)\n",
    "    output_array = intermed_array * (high_val - low_val) + low_val\n",
    "    return output_array"
   ]
  },
  {
   "cell_type": "code",
   "execution_count": 17,
   "metadata": {},
   "outputs": [
    {
     "data": {
      "text/plain": [
       "array([0.09435943, 0.97921499, 0.5075422 , 0.59128195, 1.        ,\n",
       "       0.27422232, 0.40675671, 0.69564195, 0.96982964, 0.23891783,\n",
       "       0.82916269, 0.65060337, 0.        , 0.77018915, 0.23060015,\n",
       "       0.15985489, 0.25906476, 0.61408783, 0.25817022, 0.44873294])"
      ]
     },
     "execution_count": 17,
     "metadata": {},
     "output_type": "execute_result"
    }
   ],
   "source": [
    "rescale_swc(np.random.rand(20)*100)"
   ]
  },
  {
   "cell_type": "markdown",
   "metadata": {},
   "source": [
    "#### Variables Inside and Outside Functions"
   ]
  },
  {
   "cell_type": "code",
   "execution_count": 19,
   "metadata": {},
   "outputs": [
    {
     "name": "stdout",
     "output_type": "stream",
     "text": [
      "259.816666667\n",
      "278.15\n",
      "273.15\n",
      "0\n"
     ]
    }
   ],
   "source": [
    "f = 0\n",
    "k = 0\n",
    "\n",
    "def f2k(f):\n",
    "    k = ((f-32)*(5.0/9.0)) + 273.15\n",
    "    return k\n",
    "\n",
    "print f2k(8)\n",
    "print f2k(41)\n",
    "print f2k(32)\n",
    "\n",
    "print(k)"
   ]
  },
  {
   "cell_type": "markdown",
   "metadata": {},
   "source": [
    "#### Mixing Default and Non-Default Parameters"
   ]
  },
  {
   "cell_type": "code",
   "execution_count": 20,
   "metadata": {},
   "outputs": [
    {
     "ename": "SyntaxError",
     "evalue": "non-default argument follows default argument (<ipython-input-20-28e3d1a5100b>, line 1)",
     "output_type": "error",
     "traceback": [
      "\u001b[0;36m  File \u001b[0;32m\"<ipython-input-20-28e3d1a5100b>\"\u001b[0;36m, line \u001b[0;32m1\u001b[0m\n\u001b[0;31m    def numbers(one, two=2, three, four=4):\u001b[0m\n\u001b[0;31mSyntaxError\u001b[0m\u001b[0;31m:\u001b[0m non-default argument follows default argument\n"
     ]
    }
   ],
   "source": [
    "def numbers(one, two=2, three, four=4):\n",
    "    n = str(one) + str(two) + str(three) + str(four)\n",
    "    return n\n",
    "\n",
    "print(numbers(1, three=3))"
   ]
  },
  {
   "cell_type": "code",
   "execution_count": 21,
   "metadata": {},
   "outputs": [
    {
     "name": "stdout",
     "output_type": "stream",
     "text": [
      "('a: ', -1, 'b: ', 2, 'c:', 6)\n"
     ]
    }
   ],
   "source": [
    "def func(a, b=3, c=6):\n",
    "    print('a: ', a, 'b: ', b, 'c:', c)\n",
    "\n",
    "func(-1, 2)"
   ]
  },
  {
   "cell_type": "markdown",
   "metadata": {},
   "source": [
    "#### The Old Switcheroo"
   ]
  },
  {
   "cell_type": "code",
   "execution_count": 22,
   "metadata": {},
   "outputs": [
    {
     "name": "stdout",
     "output_type": "stream",
     "text": [
      "(3, 7)\n"
     ]
    }
   ],
   "source": [
    "a = 3\n",
    "b = 7\n",
    "\n",
    "def swap(a, b):\n",
    "    temp = a\n",
    "    a = b\n",
    "    b = temp\n",
    "\n",
    "swap(a, b)\n",
    "\n",
    "print(a, b)"
   ]
  },
  {
   "cell_type": "code",
   "execution_count": null,
   "metadata": {},
   "outputs": [],
   "source": []
  }
 ],
 "metadata": {
  "kernelspec": {
   "display_name": "Python 2",
   "language": "python",
   "name": "python2"
  },
  "language_info": {
   "codemirror_mode": {
    "name": "ipython",
    "version": 2
   },
   "file_extension": ".py",
   "mimetype": "text/x-python",
   "name": "python",
   "nbconvert_exporter": "python",
   "pygments_lexer": "ipython2",
   "version": "2.7.11"
  }
 },
 "nbformat": 4,
 "nbformat_minor": 2
}
