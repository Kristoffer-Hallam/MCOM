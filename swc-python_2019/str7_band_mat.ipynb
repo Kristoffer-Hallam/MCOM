{
 "cells": [
  {
   "cell_type": "markdown",
   "metadata": {},
   "source": [
    "### Band matrices\n",
    "\n",
    "Let's consider the following $5 \\times 5$ matrix $\\mathbf{B}$:\n",
    "\n",
    "\\begin{equation}\n",
    "\\mathbf{B} =\n",
    "\\begin{bmatrix}\n",
    "b_{11} & b_{12} & b_{13} & 0 & 0 \\\\\n",
    "b_{21} & b_{22} & b_{23} & b_{24} & 0 \\\\\n",
    "0 & b_{32} & b_{33} & b_{34} & b_{35} \\\\\n",
    "0 & 0 & b_{43} & b_{44} & b_{45} \\\\\n",
    "0 & 0 & 0 & b_{54} & b_{55}\n",
    "\\end{bmatrix}\n",
    "\\end{equation}\n",
    "\n",
    "which is called a band (banded) matrix. In this example, the diagonals $k=-1,0,1,2$ have non-null elements. The lower and upper limits of $k$ are defined as the *lower bandwidth* and *upper bandwidth* of $\\mathbf{B}$."
   ]
  },
  {
   "cell_type": "code",
   "execution_count": 1,
   "metadata": {},
   "outputs": [],
   "source": [
    "import numpy as np\n",
    "import numpy.testing as npt\n",
    "import my_functions as mf"
   ]
  },
  {
   "cell_type": "code",
   "execution_count": 2,
   "metadata": {},
   "outputs": [
    {
     "name": "stdout",
     "output_type": "stream",
     "text": [
      "[1. 2. 1. 4. 6.]\n"
     ]
    }
   ],
   "source": [
    "x = np.array([1.,2.,1.,4.,6.])\n",
    "print x"
   ]
  },
  {
   "cell_type": "code",
   "execution_count": 3,
   "metadata": {},
   "outputs": [
    {
     "data": {
      "text/plain": [
       "array([[5., 4., 3., 0., 0.],\n",
       "       [4., 5., 4., 3., 0.],\n",
       "       [0., 4., 5., 4., 3.],\n",
       "       [0., 0., 4., 5., 4.],\n",
       "       [0., 0., 0., 4., 5.]])"
      ]
     },
     "execution_count": 3,
     "metadata": {},
     "output_type": "execute_result"
    }
   ],
   "source": [
    "B = np.array([[5.,4.,3.,0.,0.],[4.,5.,4.,3.,0.],[0.,4.,5.,4.,3.],\\\n",
    "              [0.,0.,4.,5.,4.],[0.,0.,0.,4.,5.]])\n",
    "B"
   ]
  },
  {
   "cell_type": "code",
   "execution_count": 4,
   "metadata": {},
   "outputs": [
    {
     "data": {
      "text/plain": [
       "array([16., 30., 47., 48., 46.])"
      ]
     },
     "execution_count": 4,
     "metadata": {},
     "output_type": "execute_result"
    }
   ],
   "source": [
    "# Using np.dot\n",
    "y_dot = np.dot(B, x)\n",
    "y_dot"
   ]
  },
  {
   "cell_type": "markdown",
   "metadata": {},
   "source": [
    "### MY CODE"
   ]
  },
  {
   "cell_type": "code",
   "execution_count": 5,
   "metadata": {},
   "outputs": [
    {
     "name": "stdout",
     "output_type": "stream",
     "text": [
      "[5. 4. 4. 5. 4. 3. 4. 5. 4. 3. 4. 5. 4. 3. 4. 5.] 16\n"
     ]
    }
   ],
   "source": [
    "b = np.reshape(B,(B.shape[0]*B.shape[1]))\n",
    "ind = np.where(b==0)[0]\n",
    "b = np.delete(b, ind)[b.size::-1]\n",
    "print b, b.size"
   ]
  },
  {
   "cell_type": "code",
   "execution_count": 6,
   "metadata": {},
   "outputs": [
    {
     "name": "stdout",
     "output_type": "stream",
     "text": [
      "[[0. 0. 0. 0. 0.]\n",
      " [4. 0. 0. 0. 0.]\n",
      " [0. 4. 0. 0. 0.]\n",
      " [0. 0. 4. 0. 0.]\n",
      " [0. 0. 0. 4. 0.]]\n",
      "[4. 4. 4. 4.] 4\n"
     ]
    }
   ],
   "source": [
    "B1 = np.array([[0.,0.,0.,0.,0.],[4.,0.,0.,0.,0.],[0.,4.,0.,0.,0.],\\\n",
    "              [0.,0.,4.,0.,0.],[0.,0.,0.,4.,0.]])\n",
    "print B1\n",
    "b1 = np.reshape(B1,(B1.shape[0]*B1.shape[1]))\n",
    "ind = np.where(b1==0)[0]\n",
    "b1 = np.delete(b1, ind)[b1.size::-1]\n",
    "print b1, b1.size"
   ]
  },
  {
   "cell_type": "code",
   "execution_count": 7,
   "metadata": {},
   "outputs": [
    {
     "name": "stdout",
     "output_type": "stream",
     "text": [
      "[[5. 0. 0. 0. 0.]\n",
      " [0. 5. 0. 0. 0.]\n",
      " [0. 0. 5. 0. 0.]\n",
      " [0. 0. 0. 5. 0.]\n",
      " [0. 0. 0. 0. 5.]]\n",
      "[5. 5. 5. 5. 5.] 5\n"
     ]
    }
   ],
   "source": [
    "B2 = np.array([[5.,0.,0.,0.,0.],[0.,5.,0.,0.,0.],[0.,0.,5.,0.,0.],\\\n",
    "               [0.,0.,0.,5.,0.],[0.,0.,0.,0.,5.]])\n",
    "print B2\n",
    "b2 = np.reshape(B2,(B2.shape[0]*B2.shape[1]))\n",
    "ind = np.where(b2==0)[0]\n",
    "b2 = np.delete(b2, ind)[b2.size::-1]\n",
    "print b2, b2.size"
   ]
  },
  {
   "cell_type": "code",
   "execution_count": 8,
   "metadata": {},
   "outputs": [
    {
     "name": "stdout",
     "output_type": "stream",
     "text": [
      "[[0. 0. 0. 0. 0.]\n",
      " [4. 0. 0. 0. 0.]\n",
      " [0. 4. 0. 0. 0.]\n",
      " [0. 0. 4. 0. 0.]\n",
      " [0. 0. 0. 4. 0.]]\n",
      "[4. 4. 4. 4.] 4\n"
     ]
    }
   ],
   "source": [
    "B3 = np.array([[0.,0.,0.,0.,0.],[4.,0.,0.,0.,0.],[0.,4.,0.,0.,0.],\\\n",
    "              [0.,0.,4.,0.,0.],[0.,0.,0.,4.,0.]])\n",
    "print B3\n",
    "b3 = np.reshape(B3,(B3.shape[0]*B3.shape[1]))\n",
    "ind = np.where(b3==0)[0]\n",
    "b3 = np.delete(b3, ind)[b3.size::-1]\n",
    "print b3, b3.size"
   ]
  },
  {
   "cell_type": "code",
   "execution_count": 9,
   "metadata": {},
   "outputs": [
    {
     "name": "stdout",
     "output_type": "stream",
     "text": [
      "[[0. 0. 3. 0. 0.]\n",
      " [0. 0. 0. 3. 0.]\n",
      " [0. 0. 0. 0. 3.]\n",
      " [0. 0. 0. 0. 0.]\n",
      " [0. 0. 0. 0. 0.]]\n",
      "[3. 3. 3.] 3\n"
     ]
    }
   ],
   "source": [
    "B4 = np.array([[0.,0.,3.,0.,0.],[0.,0.,0.,3.,0.],[0.,0.,0.,0.,3.],\\\n",
    "              [0.,0.,0.,0.,0.],[0.,0.,0.,0.,0.]])\n",
    "print B4\n",
    "b4 = np.reshape(B4,(B4.shape[0]*B4.shape[1]))\n",
    "ind = np.where(b4==0)[0]\n",
    "b4 = np.delete(b4, ind)[b4.size::-1]\n",
    "print b4, b4.size"
   ]
  },
  {
   "cell_type": "code",
   "execution_count": 10,
   "metadata": {},
   "outputs": [
    {
     "name": "stdout",
     "output_type": "stream",
     "text": [
      "[4. 4. 4. 4. 5. 5. 5. 5. 5. 4. 4. 4. 4. 3. 3. 3.]\n"
     ]
    }
   ],
   "source": [
    "b = np.concatenate((b1,b2,b3,b4))\n",
    "print b"
   ]
  },
  {
   "cell_type": "code",
   "execution_count": 11,
   "metadata": {},
   "outputs": [],
   "source": [
    "# j1 = 0\n",
    "# j2 = 4\n",
    "# # y = mf.matvec_diagk_prod(b[j1:j2], -2, x)\n",
    "# for i in range(-1,3):\n",
    "#     if i < 0:\n",
    "#         print i, j1, j2, b[j1:j2]\n",
    "#         y += mf.matvec_diagk_prod(b[j1:j2], i, x)\n",
    "#         j1 = j2\n",
    "#         j2 += x.size+i\n",
    "#     else:\n",
    "#         y += mf.matvec_diagk_prod(b[j1:j2], i, x)\n",
    "#         j1 = j2\n",
    "#         j2 = j2+x.size-(i+1)\n",
    "# y"
   ]
  },
  {
   "cell_type": "code",
   "execution_count": 12,
   "metadata": {},
   "outputs": [
    {
     "name": "stdout",
     "output_type": "stream",
     "text": [
      "[16. 30. 47. 48. 46.]\n"
     ]
    }
   ],
   "source": [
    "j2 = 0\n",
    "y = np.zeros_like(x)\n",
    "for i in range(-1,3):\n",
    "    j1 = j2\n",
    "    j2 += x.size-np.abs(i)\n",
    "    y += mf.matvec_diagk_prod(b[j1:j2],i,x)\n",
    "#     print i, j1, j2, b[j1:j2], y\n",
    "print y"
   ]
  },
  {
   "cell_type": "code",
   "execution_count": 13,
   "metadata": {},
   "outputs": [
    {
     "data": {
      "text/plain": [
       "array([16., 30., 47., 48., 46.])"
      ]
     },
     "execution_count": 13,
     "metadata": {},
     "output_type": "execute_result"
    }
   ],
   "source": [
    "y = mf.matvec_band_opt_prod(b,x)\n",
    "y"
   ]
  },
  {
   "cell_type": "code",
   "execution_count": 14,
   "metadata": {},
   "outputs": [],
   "source": [
    "# y_calc = mf.matvec_symm_opt_prod(s, x)\n",
    "# y_calc"
   ]
  },
  {
   "cell_type": "code",
   "execution_count": 15,
   "metadata": {},
   "outputs": [],
   "source": [
    "# npt.assert_almost_equal(y_calc,y,decimal=15)"
   ]
  }
 ],
 "metadata": {
  "kernelspec": {
   "display_name": "Python 2",
   "language": "python",
   "name": "python2"
  },
  "language_info": {
   "codemirror_mode": {
    "name": "ipython",
    "version": 2
   },
   "file_extension": ".py",
   "mimetype": "text/x-python",
   "name": "python",
   "nbconvert_exporter": "python",
   "pygments_lexer": "ipython2",
   "version": "2.7.11"
  }
 },
 "nbformat": 4,
 "nbformat_minor": 2
}
