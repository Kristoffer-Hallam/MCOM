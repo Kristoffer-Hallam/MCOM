{
 "cells": [
  {
   "cell_type": "markdown",
   "metadata": {},
   "source": [
    "### Outer product\n",
    "\n",
    "The Outer product is defined as:\n",
    "\n",
    "\\begin{equation}\n",
    "\\textbf{M} = \\textbf{x} \\otimes \\textbf{y} = \\textbf{x} \\textbf{y}^{\\top} =\n",
    "\\begin{bmatrix}\n",
    "x_1 \\textbf{y}^{\\top} \\\\ x_2 \\textbf{y}^{\\top} \\\\ \\vdots \\\\ x_N \\textbf{y}^{\\top}\n",
    "\\end{bmatrix}_{N \\times M} = \n",
    "\\begin{bmatrix}\n",
    "y_1 \\textbf{x} & \\cdots & y_N \\textbf{x}\n",
    "\\end{bmatrix}_{N \\times M}\n",
    "\\end{equation}"
   ]
  },
  {
   "cell_type": "code",
   "execution_count": 1,
   "metadata": {},
   "outputs": [],
   "source": [
    "import numpy as np\n",
    "import my_functions as mf"
   ]
  },
  {
   "cell_type": "code",
   "execution_count": 2,
   "metadata": {},
   "outputs": [
    {
     "data": {
      "text/plain": [
       "array([0, 1, 2, 3, 4])"
      ]
     },
     "execution_count": 2,
     "metadata": {},
     "output_type": "execute_result"
    }
   ],
   "source": [
    "x = np.arange(5)\n",
    "x"
   ]
  },
  {
   "cell_type": "code",
   "execution_count": 3,
   "metadata": {},
   "outputs": [
    {
     "data": {
      "text/plain": [
       "array([ 5,  6,  7,  8,  9, 10, 11])"
      ]
     },
     "execution_count": 3,
     "metadata": {},
     "output_type": "execute_result"
    }
   ],
   "source": [
    "y = np.arange(5,12)\n",
    "y"
   ]
  },
  {
   "cell_type": "code",
   "execution_count": 4,
   "metadata": {},
   "outputs": [
    {
     "name": "stdout",
     "output_type": "stream",
     "text": [
      "[[ 0.  0.  0.  0.  0.  0.  0.]\n",
      " [ 5.  6.  7.  8.  9. 10. 11.]\n",
      " [10. 12. 14. 16. 18. 20. 22.]\n",
      " [15. 18. 21. 24. 27. 30. 33.]\n",
      " [20. 24. 28. 32. 36. 40. 44.]]\n"
     ]
    }
   ],
   "source": [
    "# OR\n",
    "M = np.empty((x.size,y.size))\n",
    "for i in range(x.size):\n",
    "    for j in range(y.size):\n",
    "        M[i,j] = x[i]*y[j]\n",
    "print M"
   ]
  },
  {
   "cell_type": "code",
   "execution_count": 5,
   "metadata": {},
   "outputs": [
    {
     "name": "stdout",
     "output_type": "stream",
     "text": [
      "[[ 0.  0.  0.  0.  0.  0.  0.]\n",
      " [ 5.  6.  7.  8.  9. 10. 11.]\n",
      " [10. 12. 14. 16. 18. 20. 22.]\n",
      " [15. 18. 21. 24. 27. 30. 33.]\n",
      " [20. 24. 28. 32. 36. 40. 44.]]\n"
     ]
    }
   ],
   "source": [
    "# OR\n",
    "M = np.empty((x.size,y.size))\n",
    "for i in range(x.size):\n",
    "    M[i,:] = x[i]*y\n",
    "print M"
   ]
  },
  {
   "cell_type": "code",
   "execution_count": 6,
   "metadata": {},
   "outputs": [
    {
     "name": "stdout",
     "output_type": "stream",
     "text": [
      "[[ 0.  0.  0.  0.  0.  0.  0.]\n",
      " [ 5.  6.  7.  8.  9. 10. 11.]\n",
      " [10. 12. 14. 16. 18. 20. 22.]\n",
      " [15. 18. 21. 24. 27. 30. 33.]\n",
      " [20. 24. 28. 32. 36. 40. 44.]]\n"
     ]
    }
   ],
   "source": [
    "# OR\n",
    "M = np.empty((x.size,y.size))\n",
    "for j in range(y.size):\n",
    "    M[:,j] = y[j]*x\n",
    "print M"
   ]
  }
 ],
 "metadata": {
  "kernelspec": {
   "display_name": "Python 2",
   "language": "python",
   "name": "python2"
  },
  "language_info": {
   "codemirror_mode": {
    "name": "ipython",
    "version": 2
   },
   "file_extension": ".py",
   "mimetype": "text/x-python",
   "name": "python",
   "nbconvert_exporter": "python",
   "pygments_lexer": "ipython2",
   "version": "2.7.11"
  }
 },
 "nbformat": 4,
 "nbformat_minor": 2
}
