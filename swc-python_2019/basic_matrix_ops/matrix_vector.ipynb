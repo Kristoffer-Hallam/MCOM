{
 "cells": [
  {
   "cell_type": "markdown",
   "metadata": {},
   "source": [
    "### Matrix and vector operations"
   ]
  },
  {
   "cell_type": "code",
   "execution_count": 1,
   "metadata": {},
   "outputs": [],
   "source": [
    "import numpy as np"
   ]
  },
  {
   "cell_type": "code",
   "execution_count": 2,
   "metadata": {},
   "outputs": [
    {
     "name": "stdout",
     "output_type": "stream",
     "text": [
      "[[1 2 3]\n",
      " [4 5 6]\n",
      " [7 8 9]] (3, 3)\n"
     ]
    }
   ],
   "source": [
    "A = np.array([[1,2,3], [4,5,6],[7,8,9]])\n",
    "print A, A.shape"
   ]
  },
  {
   "cell_type": "code",
   "execution_count": 3,
   "metadata": {},
   "outputs": [
    {
     "name": "stdout",
     "output_type": "stream",
     "text": [
      "[1. 1. 1.] (3,)\n"
     ]
    }
   ],
   "source": [
    "x = np.ones(3)\n",
    "print x, x.shape"
   ]
  },
  {
   "cell_type": "code",
   "execution_count": 4,
   "metadata": {},
   "outputs": [
    {
     "data": {
      "text/plain": [
       "array([0., 0., 0.])"
      ]
     },
     "execution_count": 4,
     "metadata": {},
     "output_type": "execute_result"
    }
   ],
   "source": [
    "y = np.zeros_like(x)\n",
    "y"
   ]
  },
  {
   "cell_type": "code",
   "execution_count": 5,
   "metadata": {},
   "outputs": [
    {
     "name": "stdout",
     "output_type": "stream",
     "text": [
      "0 0 [1. 0. 0.]\n",
      "0 1 [3. 0. 0.]\n",
      "0 2 [6. 0. 0.]\n",
      "1 0 [6. 4. 0.]\n",
      "1 1 [6. 9. 0.]\n",
      "1 2 [ 6. 15.  0.]\n",
      "2 0 [ 6. 15.  7.]\n",
      "2 1 [ 6. 15. 15.]\n",
      "2 2 [ 6. 15. 24.]\n",
      "(3,)\n"
     ]
    }
   ],
   "source": [
    "N = 3\n",
    "M = 3\n",
    "for i in range(N):\n",
    "    for j in range(M):\n",
    "        y[i] += A[i,j]*x[j]\n",
    "        print i,j,y\n",
    "print y.shape"
   ]
  },
  {
   "cell_type": "code",
   "execution_count": 6,
   "metadata": {},
   "outputs": [
    {
     "name": "stdout",
     "output_type": "stream",
     "text": [
      "0 2 [6. 0. 0.]\n",
      "1 2 [ 6. 15.  0.]\n",
      "2 2 [ 6. 15. 24.]\n",
      "[ 6. 15. 24.] (3,)\n"
     ]
    }
   ],
   "source": [
    "y = np.zeros_like(x)\n",
    "for i in range(N):\n",
    "    y[i] = np.dot(A[i,:],x)\n",
    "    print i,j,y\n",
    "print y, y.shape"
   ]
  },
  {
   "cell_type": "code",
   "execution_count": 7,
   "metadata": {},
   "outputs": [
    {
     "name": "stdout",
     "output_type": "stream",
     "text": [
      "2 0 [1. 4. 7.]\n",
      "2 1 [ 3.  9. 15.]\n",
      "2 2 [ 6. 15. 24.]\n",
      "[ 6. 15. 24.] (3,)\n"
     ]
    }
   ],
   "source": [
    "y = np.zeros_like(x)\n",
    "for j in range(M):\n",
    "    y += A[:,j]*x[j]\n",
    "    print i,j,y\n",
    "print y, y.shape"
   ]
  },
  {
   "cell_type": "code",
   "execution_count": null,
   "metadata": {},
   "outputs": [],
   "source": []
  }
 ],
 "metadata": {
  "kernelspec": {
   "display_name": "Python 2",
   "language": "python",
   "name": "python2"
  },
  "language_info": {
   "codemirror_mode": {
    "name": "ipython",
    "version": 2
   },
   "file_extension": ".py",
   "mimetype": "text/x-python",
   "name": "python",
   "nbconvert_exporter": "python",
   "pygments_lexer": "ipython2",
   "version": "2.7.11"
  }
 },
 "nbformat": 4,
 "nbformat_minor": 2
}
