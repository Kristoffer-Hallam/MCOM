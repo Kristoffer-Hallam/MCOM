{
 "cells": [
  {
   "cell_type": "code",
   "execution_count": 1,
   "metadata": {},
   "outputs": [],
   "source": [
    "import numpy as np"
   ]
  },
  {
   "cell_type": "code",
   "execution_count": 2,
   "metadata": {},
   "outputs": [],
   "source": [
    "def permut(C, i):\n",
    "    p = [j for j in range(C.shape[0])]\n",
    "    imax = i + np.argmax(np.abs(C[i:,i]))\n",
    "    if imax != i:\n",
    "        p[i], p[imax] = p[imax], p[i]\n",
    "    return p, C[p,:]"
   ]
  },
  {
   "cell_type": "code",
   "execution_count": 3,
   "metadata": {},
   "outputs": [
    {
     "data": {
      "text/plain": [
       "array([[ 2.,  1., -1.],\n",
       "       [-3., -1.,  2.],\n",
       "       [-2.,  1.,  2.]])"
      ]
     },
     "execution_count": 3,
     "metadata": {},
     "output_type": "execute_result"
    }
   ],
   "source": [
    "A = np.array([[2.,1.,-1.],\n",
    "              [-3.,-1.,2.],\n",
    "              [-2.,1.,2.]])\n",
    "A"
   ]
  },
  {
   "cell_type": "code",
   "execution_count": 4,
   "metadata": {},
   "outputs": [
    {
     "data": {
      "text/plain": [
       "array([  8., -11.,  -3.])"
      ]
     },
     "execution_count": 4,
     "metadata": {},
     "output_type": "execute_result"
    }
   ],
   "source": [
    "y = np.array([8., -11., -3.])\n",
    "y"
   ]
  },
  {
   "cell_type": "code",
   "execution_count": 5,
   "metadata": {},
   "outputs": [
    {
     "data": {
      "text/plain": [
       "array([ 2.,  3., -1.])"
      ]
     },
     "execution_count": 5,
     "metadata": {},
     "output_type": "execute_result"
    }
   ],
   "source": [
    "x = np.linalg.solve(A,y)\n",
    "x"
   ]
  },
  {
   "cell_type": "code",
   "execution_count": 6,
   "metadata": {},
   "outputs": [],
   "source": [
    "def gauss_elim(A,y):\n",
    "    N = y.size\n",
    "    assert A.shape[1] == N, 'A columns must be equal to y size'\n",
    "    C = np.vstack([A.T, y]).T\n",
    "    for k in range(1,N-1):\n",
    "        # permutation step (computation of C tilde)\n",
    "        p, C = permut(C, k)\n",
    "        \n",
    "        # assert the pivot is nonzero\n",
    "        assert C[k,k] != 0., 'null pivot!'\n",
    "        \n",
    "        # calculate the Gauss multipliers and store them\n",
    "        # in the lower part of C\n",
    "        C[k+1:,k] = C[k+1:,k]/C[k,k]\n",
    "        \n",
    "        # zeroing of the elements in the ith column\n",
    "        C[k+1:,k+1:] = C[k+1:,k+1:] - np.outer(C[k+1:,k], C[k,k+1:])\n",
    "\n",
    "    return C[:,:N], C[:,N]"
   ]
  },
  {
   "cell_type": "code",
   "execution_count": 7,
   "metadata": {},
   "outputs": [],
   "source": [
    "B, t = gauss_elim(A,y)"
   ]
  },
  {
   "cell_type": "code",
   "execution_count": 8,
   "metadata": {},
   "outputs": [
    {
     "name": "stdout",
     "output_type": "stream",
     "text": [
      "[[ 2.  1. -1.]\n",
      " [-3. -1.  2.]\n",
      " [-2. -1.  4.]]\n",
      "[[ 2.  1. -1.]\n",
      " [-3. -1.  2.]\n",
      " [-2.  1.  2.]]\n"
     ]
    }
   ],
   "source": [
    "print B\n",
    "print A"
   ]
  },
  {
   "cell_type": "code",
   "execution_count": 10,
   "metadata": {},
   "outputs": [
    {
     "name": "stdout",
     "output_type": "stream",
     "text": [
      "[  8. -11.  -3.]\n",
      "[  8. -11. -14.]\n"
     ]
    }
   ],
   "source": [
    "print y\n",
    "print t"
   ]
  },
  {
   "cell_type": "code",
   "execution_count": null,
   "metadata": {},
   "outputs": [],
   "source": []
  }
 ],
 "metadata": {
  "kernelspec": {
   "display_name": "Python 2",
   "language": "python",
   "name": "python2"
  },
  "language_info": {
   "codemirror_mode": {
    "name": "ipython",
    "version": 2
   },
   "file_extension": ".py",
   "mimetype": "text/x-python",
   "name": "python",
   "nbconvert_exporter": "python",
   "pygments_lexer": "ipython2",
   "version": "2.7.11"
  }
 },
 "nbformat": 4,
 "nbformat_minor": 2
}
