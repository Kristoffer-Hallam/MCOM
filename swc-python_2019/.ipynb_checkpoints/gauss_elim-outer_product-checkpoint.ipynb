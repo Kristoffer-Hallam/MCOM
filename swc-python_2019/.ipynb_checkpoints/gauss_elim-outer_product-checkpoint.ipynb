{
 "cells": [
  {
   "cell_type": "code",
   "execution_count": 1,
   "metadata": {},
   "outputs": [],
   "source": [
    "import numpy as np"
   ]
  },
  {
   "cell_type": "code",
   "execution_count": 2,
   "metadata": {},
   "outputs": [
    {
     "data": {
      "text/plain": [
       "array([[1., 3., 2.],\n",
       "       [7., 4., 9.],\n",
       "       [8., 6., 5.]])"
      ]
     },
     "execution_count": 2,
     "metadata": {},
     "output_type": "execute_result"
    }
   ],
   "source": [
    "A = np.array([[1.,3.,2.],\n",
    "              [7.,4.,9.],\n",
    "              [8.,6.,5.]])\n",
    "A"
   ]
  },
  {
   "cell_type": "code",
   "execution_count": 3,
   "metadata": {},
   "outputs": [
    {
     "data": {
      "text/plain": [
       "array([5.23, 6.45, 1.67])"
      ]
     },
     "execution_count": 3,
     "metadata": {},
     "output_type": "execute_result"
    }
   ],
   "source": [
    "y = np.array([5.23, 6.45, 1.67])\n",
    "y"
   ]
  },
  {
   "cell_type": "code",
   "execution_count": 4,
   "metadata": {},
   "outputs": [
    {
     "data": {
      "text/plain": [
       "array([-1.70556701,  1.34958763,  1.44340206])"
      ]
     },
     "execution_count": 4,
     "metadata": {},
     "output_type": "execute_result"
    }
   ],
   "source": [
    "x = np.linalg.solve(A,y)\n",
    "x"
   ]
  },
  {
   "cell_type": "markdown",
   "metadata": {},
   "source": [
    "### Changing rows"
   ]
  },
  {
   "cell_type": "code",
   "execution_count": 5,
   "metadata": {},
   "outputs": [
    {
     "name": "stdout",
     "output_type": "stream",
     "text": [
      "[[1. 0. 0.]\n",
      " [0. 1. 0.]\n",
      " [0. 0. 1.]]\n"
     ]
    }
   ],
   "source": [
    "T = np.identity(3)\n",
    "\n",
    "print(T)"
   ]
  },
  {
   "cell_type": "code",
   "execution_count": 6,
   "metadata": {},
   "outputs": [
    {
     "name": "stdout",
     "output_type": "stream",
     "text": [
      "[[0. 1. 0.]\n",
      " [1. 0. 0.]\n",
      " [0. 0. 1.]]\n"
     ]
    }
   ],
   "source": [
    "T = np.identity(3)[[1, 0, 2]]\n",
    "\n",
    "print(T)"
   ]
  },
  {
   "cell_type": "code",
   "execution_count": 7,
   "metadata": {},
   "outputs": [],
   "source": [
    "A_prime = np.dot(T, A)\n",
    "y_prime = np.dot(T, y)"
   ]
  },
  {
   "cell_type": "code",
   "execution_count": 8,
   "metadata": {},
   "outputs": [
    {
     "name": "stdout",
     "output_type": "stream",
     "text": [
      "[[1. 3. 2.]\n",
      " [7. 4. 9.]\n",
      " [8. 6. 5.]]\n",
      "\n",
      "\n",
      "[[7. 4. 9.]\n",
      " [1. 3. 2.]\n",
      " [8. 6. 5.]]\n"
     ]
    }
   ],
   "source": [
    "print(A)\n",
    "print('\\n')\n",
    "print(A_prime)"
   ]
  },
  {
   "cell_type": "code",
   "execution_count": 9,
   "metadata": {},
   "outputs": [
    {
     "data": {
      "text/plain": [
       "array([-1.70556701,  1.34958763,  1.44340206])"
      ]
     },
     "execution_count": 9,
     "metadata": {},
     "output_type": "execute_result"
    }
   ],
   "source": [
    "x1 = np.linalg.solve(A_prime, y_prime)\n",
    "x1"
   ]
  },
  {
   "cell_type": "markdown",
   "metadata": {},
   "source": [
    "### Multiplying a row by a nonzero scalar"
   ]
  },
  {
   "cell_type": "code",
   "execution_count": 10,
   "metadata": {},
   "outputs": [
    {
     "name": "stdout",
     "output_type": "stream",
     "text": [
      "[[1. 0. 0.]\n",
      " [0. 3. 0.]\n",
      " [0. 0. 1.]]\n"
     ]
    }
   ],
   "source": [
    "T = np.diag([1., 3., 1.])\n",
    "print T"
   ]
  },
  {
   "cell_type": "code",
   "execution_count": 11,
   "metadata": {},
   "outputs": [],
   "source": [
    "A_prime = np.dot(T, A)\n",
    "y_prime = np.dot(T, y)"
   ]
  },
  {
   "cell_type": "code",
   "execution_count": 12,
   "metadata": {},
   "outputs": [
    {
     "name": "stdout",
     "output_type": "stream",
     "text": [
      "[[1. 3. 2.]\n",
      " [7. 4. 9.]\n",
      " [8. 6. 5.]]\n",
      "\n",
      "\n",
      "[[ 1.  3.  2.]\n",
      " [21. 12. 27.]\n",
      " [ 8.  6.  5.]]\n"
     ]
    }
   ],
   "source": [
    "print A\n",
    "print '\\n'\n",
    "print A_prime"
   ]
  },
  {
   "cell_type": "code",
   "execution_count": 13,
   "metadata": {},
   "outputs": [
    {
     "name": "stdout",
     "output_type": "stream",
     "text": [
      "[5.23 6.45 1.67]\n",
      "\n",
      "\n",
      "[ 5.23 19.35  1.67]\n"
     ]
    }
   ],
   "source": [
    "print y\n",
    "print '\\n'\n",
    "print y_prime"
   ]
  },
  {
   "cell_type": "code",
   "execution_count": 14,
   "metadata": {},
   "outputs": [
    {
     "data": {
      "text/plain": [
       "array([-1.70556701,  1.34958763,  1.44340206])"
      ]
     },
     "execution_count": 14,
     "metadata": {},
     "output_type": "execute_result"
    }
   ],
   "source": [
    "x2 = np.linalg.solve(A_prime, y_prime)\n",
    "x2"
   ]
  },
  {
   "cell_type": "markdown",
   "metadata": {},
   "source": [
    "### Add to one row a scalar multiple of another"
   ]
  },
  {
   "cell_type": "code",
   "execution_count": 15,
   "metadata": {},
   "outputs": [],
   "source": [
    "alpha = 3.\n",
    "t = np.array([0., 0., alpha])\n",
    "u = np.array([1., 0., 0.])"
   ]
  },
  {
   "cell_type": "code",
   "execution_count": 16,
   "metadata": {},
   "outputs": [
    {
     "name": "stdout",
     "output_type": "stream",
     "text": [
      "[[1. 0. 0.]\n",
      " [0. 1. 0.]\n",
      " [3. 0. 1.]]\n"
     ]
    }
   ],
   "source": [
    "T = np.identity(3) + np.outer(t, u)\n",
    "print T"
   ]
  },
  {
   "cell_type": "code",
   "execution_count": 17,
   "metadata": {},
   "outputs": [],
   "source": [
    "A_prime = np.dot(T, A)\n",
    "y_prime = np.dot(T, y)"
   ]
  },
  {
   "cell_type": "code",
   "execution_count": 18,
   "metadata": {},
   "outputs": [
    {
     "name": "stdout",
     "output_type": "stream",
     "text": [
      "[[1. 3. 2.]\n",
      " [7. 4. 9.]\n",
      " [8. 6. 5.]]\n",
      "\n",
      "\n",
      "[[ 1.  3.  2.]\n",
      " [ 7.  4.  9.]\n",
      " [11. 15. 11.]]\n"
     ]
    }
   ],
   "source": [
    "print A\n",
    "print '\\n'\n",
    "print A_prime"
   ]
  },
  {
   "cell_type": "code",
   "execution_count": 19,
   "metadata": {},
   "outputs": [
    {
     "name": "stdout",
     "output_type": "stream",
     "text": [
      "[5.23 6.45 1.67]\n",
      "\n",
      "\n",
      "[ 5.23  6.45 17.36]\n"
     ]
    }
   ],
   "source": [
    "print y\n",
    "print '\\n'\n",
    "print y_prime"
   ]
  },
  {
   "cell_type": "code",
   "execution_count": 20,
   "metadata": {},
   "outputs": [
    {
     "name": "stdout",
     "output_type": "stream",
     "text": [
      "[-1.70556701  1.34958763  1.44340206]\n"
     ]
    }
   ],
   "source": [
    "x3 = np.linalg.solve(A_prime, y_prime)\n",
    "print x3"
   ]
  },
  {
   "cell_type": "code",
   "execution_count": 21,
   "metadata": {},
   "outputs": [
    {
     "name": "stdout",
     "output_type": "stream",
     "text": [
      "[-1.70556701  1.34958763  1.44340206]\n",
      "[-1.70556701  1.34958763  1.44340206]\n",
      "[-1.70556701  1.34958763  1.44340206]\n",
      "[-1.70556701  1.34958763  1.44340206]\n"
     ]
    }
   ],
   "source": [
    "print x\n",
    "print x1\n",
    "print x2\n",
    "print x3"
   ]
  },
  {
   "cell_type": "code",
   "execution_count": null,
   "metadata": {},
   "outputs": [],
   "source": []
  }
 ],
 "metadata": {
  "kernelspec": {
   "display_name": "Python 2",
   "language": "python",
   "name": "python2"
  },
  "language_info": {
   "codemirror_mode": {
    "name": "ipython",
    "version": 2
   },
   "file_extension": ".py",
   "mimetype": "text/x-python",
   "name": "python",
   "nbconvert_exporter": "python",
   "pygments_lexer": "ipython2",
   "version": "2.7.11"
  }
 },
 "nbformat": 4,
 "nbformat_minor": 2
}
