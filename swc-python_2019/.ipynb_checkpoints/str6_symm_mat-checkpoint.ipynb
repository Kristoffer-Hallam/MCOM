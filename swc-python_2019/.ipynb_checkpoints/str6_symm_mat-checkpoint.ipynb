{
 "cells": [
  {
   "cell_type": "markdown",
   "metadata": {},
   "source": [
    "### Symmetric matrices"
   ]
  },
  {
   "cell_type": "code",
   "execution_count": 1,
   "metadata": {},
   "outputs": [],
   "source": [
    "import numpy as np\n",
    "import my_functions as mf\n",
    "import numpy.testing as npt\n",
    "import my_functions as mf"
   ]
  },
  {
   "cell_type": "code",
   "execution_count": 2,
   "metadata": {},
   "outputs": [
    {
     "name": "stdout",
     "output_type": "stream",
     "text": [
      "[1. 2. 1. 4. 6.]\n"
     ]
    }
   ],
   "source": [
    "x = np.array([1.,2.,1.,4.,6.])\n",
    "print x"
   ]
  },
  {
   "cell_type": "code",
   "execution_count": 3,
   "metadata": {},
   "outputs": [
    {
     "data": {
      "text/plain": [
       "array([[5., 4., 3., 2., 1.],\n",
       "       [4., 5., 4., 3., 2.],\n",
       "       [3., 4., 5., 4., 3.],\n",
       "       [2., 3., 4., 5., 4.],\n",
       "       [1., 2., 3., 4., 5.]])"
      ]
     },
     "execution_count": 3,
     "metadata": {},
     "output_type": "execute_result"
    }
   ],
   "source": [
    "S = np.array([[5.,4.,3.,2.,1.],[4.,5.,4.,3.,2.],[3.,4.,5.,4.,3.],\\\n",
    "             [2.,3.,4.,5.,4.],[1.,2.,3.,4.,5.]])\n",
    "S"
   ]
  },
  {
   "cell_type": "code",
   "execution_count": 4,
   "metadata": {},
   "outputs": [
    {
     "data": {
      "text/plain": [
       "array([30., 42., 50., 56., 54.])"
      ]
     },
     "execution_count": 4,
     "metadata": {},
     "output_type": "execute_result"
    }
   ],
   "source": [
    "# Using np.dot\n",
    "y_dot = np.dot(S, x)\n",
    "y_dot"
   ]
  },
  {
   "cell_type": "markdown",
   "metadata": {},
   "source": [
    "### MY CODE"
   ]
  },
  {
   "cell_type": "code",
   "execution_count": 5,
   "metadata": {},
   "outputs": [
    {
     "data": {
      "text/plain": [
       "array([[5., 4., 3., 2., 1.],\n",
       "       [0., 5., 4., 3., 2.],\n",
       "       [0., 0., 5., 4., 3.],\n",
       "       [0., 0., 0., 5., 4.],\n",
       "       [0., 0., 0., 0., 5.]])"
      ]
     },
     "execution_count": 5,
     "metadata": {},
     "output_type": "execute_result"
    }
   ],
   "source": [
    "S_up = np.triu(S)\n",
    "S_up"
   ]
  },
  {
   "cell_type": "code",
   "execution_count": 6,
   "metadata": {},
   "outputs": [
    {
     "data": {
      "text/plain": [
       "array([5., 5., 5., 5., 5., 4., 4., 4., 4., 3., 3., 3., 2., 2., 1.])"
      ]
     },
     "execution_count": 6,
     "metadata": {},
     "output_type": "execute_result"
    }
   ],
   "source": [
    "s = np.reshape(S_up,(S_up.shape[0]*S_up.shape[1]))\n",
    "ind = np.where(s==0)[0]\n",
    "s = np.sort(np.delete(s, ind))[s.size::-1]\n",
    "s"
   ]
  },
  {
   "cell_type": "code",
   "execution_count": 7,
   "metadata": {},
   "outputs": [
    {
     "data": {
      "text/plain": [
       "array([ 5., 10.,  5., 20., 30.])"
      ]
     },
     "execution_count": 7,
     "metadata": {},
     "output_type": "execute_result"
    }
   ],
   "source": [
    "y = mf.hadamard(s[:x.size], x)\n",
    "y"
   ]
  },
  {
   "cell_type": "code",
   "execution_count": 8,
   "metadata": {},
   "outputs": [
    {
     "name": "stdout",
     "output_type": "stream",
     "text": [
      "1 5 4 9 [4. 4. 4. 4.]\n",
      "2 9 3 12 [3. 3. 3.]\n",
      "3 12 2 14 [2. 2.]\n",
      "4 14 1 15 [1.]\n"
     ]
    },
    {
     "data": {
      "text/plain": [
       "array([30., 42., 50., 56., 54.])"
      ]
     },
     "execution_count": 8,
     "metadata": {},
     "output_type": "execute_result"
    }
   ],
   "source": [
    "j1 = x.size\n",
    "j2 = x.size+4\n",
    "for i in range(1,x.size):\n",
    "    print i, j1, x.size-i, j2, s[j1:j2]\n",
    "    y += mf.matvec_diagk_prod(s[j1:j2],i,x)\n",
    "    y += mf.matvec_diagk_prod(s[j1:j2],-i,x)\n",
    "    j1 = j2\n",
    "    j2 = j2+x.size-(i+1)\n",
    "y"
   ]
  },
  {
   "cell_type": "code",
   "execution_count": 9,
   "metadata": {},
   "outputs": [
    {
     "data": {
      "text/plain": [
       "array([30., 42., 50., 56., 54.])"
      ]
     },
     "execution_count": 9,
     "metadata": {},
     "output_type": "execute_result"
    }
   ],
   "source": [
    "y_calc = mf.matvec_symm_opt_prod(s, x)\n",
    "y_calc"
   ]
  },
  {
   "cell_type": "code",
   "execution_count": 10,
   "metadata": {},
   "outputs": [],
   "source": [
    "npt.assert_almost_equal(y_calc,y,decimal=15)"
   ]
  }
 ],
 "metadata": {
  "kernelspec": {
   "display_name": "Python 2",
   "language": "python",
   "name": "python2"
  },
  "language_info": {
   "codemirror_mode": {
    "name": "ipython",
    "version": 2
   },
   "file_extension": ".py",
   "mimetype": "text/x-python",
   "name": "python",
   "nbconvert_exporter": "python",
   "pygments_lexer": "ipython2",
   "version": "2.7.11"
  }
 },
 "nbformat": 4,
 "nbformat_minor": 2
}
