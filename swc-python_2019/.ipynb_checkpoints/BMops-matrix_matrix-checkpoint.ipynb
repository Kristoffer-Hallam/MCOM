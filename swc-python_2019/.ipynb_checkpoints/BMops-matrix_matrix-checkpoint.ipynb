{
 "cells": [
  {
   "cell_type": "markdown",
   "metadata": {},
   "source": [
    "## Product of two matrices\n",
    "\n",
    "Let $\\mathbf{A}$ and $\\mathbf{B}$ be, respectively, $N \\times M$ and $M \\times L$ matrices. These matrices can be represented *element-by-element*, by using a row partition or by using a column partition as follows:\n",
    "\n",
    "\\begin{equation}\n",
    "\\mathbf{A} =\n",
    "\\begin{bmatrix}\n",
    "a_{11} & \\cdots & a_{1M} \\\\\n",
    "\\vdots &  & \\vdots \\\\\n",
    "a_{N1} & \\cdots & a_{NM}\n",
    "\\end{bmatrix}_{N \\times M} =\n",
    "\\begin{bmatrix}\n",
    "A[1,:] \\\\\n",
    "\\vdots \\\\\n",
    "A[N,:]\n",
    "\\end{bmatrix}_{N \\times M} =\n",
    "\\begin{bmatrix}\n",
    "A[:,1] & \\cdots & A[:,M]\n",
    "\\end{bmatrix}_{N \\times M}\n",
    "\\end{equation}\n",
    "\n",
    "and \\begin{equation}\n",
    "\\mathbf{B} =\n",
    "\\begin{bmatrix}\n",
    "b_{11} & \\cdots & b_{1L} \\\\\n",
    "\\vdots &  & \\vdots \\\\\n",
    "b_{M1} & \\cdots & b_{ML}\n",
    "\\end{bmatrix}_{M \\times L} =\n",
    "\\begin{bmatrix}\n",
    "B[1,:] \\\\\n",
    "\\vdots \\\\\n",
    "B[M,:]\n",
    "\\end{bmatrix}_{M \\times L} =\n",
    "\\begin{bmatrix}\n",
    "B[:,1] & \\cdots & B[:,L]\n",
    "\\end{bmatrix}_{M \\times L}\n",
    "\\end{equation}\n",
    "\n",
    "where $a_{ij} = \\mathbf{A}[i,j]$ and $b_{ij} = \\mathbf{B}[i,j]$, $i=1,\\cdots,N$, $j=1,\\cdots,M$ and $k=1,\\cdots,L$.\n",
    "\n",
    "Let $\\mathbf{C}$ be a $N \\times L$ matrix given by:\n",
    "\\begin{equation}\n",
    "\\mathbf{C} = \\mathbf{A} \\mathbf{B} \\qquad ,\n",
    "\\end{equation}\n",
    "with elements $cij=C[i,k]$, $i=1,\\cdots,N$ and $k=1,\\cdots,L$, defined as follows:\n",
    "\n",
    "\\begin{equation}\n",
    "\\mathbf{C} =\n",
    "\\begin{bmatrix}\n",
    "c_{11} & \\cdots & c_{1L} \\\\\n",
    "\\vdots &  & \\vdots \\\\\n",
    "c_{N1} & \\cdots & c_{NL}\n",
    "\\end{bmatrix}_{N \\times L} =\n",
    "\\begin{bmatrix}\n",
    "(a_{11}b_{11}+\\cdots+a_{1M}b_{M1}) & \\cdots & (a_{11}b_{1L}+\\cdots+a_{1M}b_{ML}) \\\\\n",
    "\\vdots & \\vdots & \\vdots \\\\\n",
    "(a_{N1}b_{11}+\\cdots+a_{NM}b_{M1}) & \\cdots & (a_{N1}b_{1L}+\\cdots+a_{NM}b_{ML})\n",
    "\\end{bmatrix}_{N \\times L}\n",
    "\\end{equation}"
   ]
  },
  {
   "cell_type": "code",
   "execution_count": 1,
   "metadata": {},
   "outputs": [],
   "source": [
    "import numpy as np\n",
    "import my_functions as mf"
   ]
  },
  {
   "cell_type": "code",
   "execution_count": 2,
   "metadata": {},
   "outputs": [
    {
     "name": "stdout",
     "output_type": "stream",
     "text": [
      "(3, 2)\n",
      "(2, 3)\n"
     ]
    }
   ],
   "source": [
    "A = np.array([[1,3],[2,4],[5,6]])\n",
    "B = np.array([[1,2,0],[2,3,4]])\n",
    "print A.shape\n",
    "print B.shape"
   ]
  },
  {
   "cell_type": "code",
   "execution_count": 3,
   "metadata": {},
   "outputs": [
    {
     "data": {
      "text/plain": [
       "array([[ 7., 11., 12.],\n",
       "       [10., 16., 16.],\n",
       "       [17., 28., 24.]])"
      ]
     },
     "execution_count": 3,
     "metadata": {},
     "output_type": "execute_result"
    }
   ],
   "source": [
    "C1 = mf.matmat_prod1(A, B)\n",
    "C1"
   ]
  },
  {
   "cell_type": "code",
   "execution_count": 4,
   "metadata": {},
   "outputs": [
    {
     "data": {
      "text/plain": [
       "array([[ 7., 11., 12.],\n",
       "       [10., 16., 16.],\n",
       "       [17., 28., 24.]])"
      ]
     },
     "execution_count": 4,
     "metadata": {},
     "output_type": "execute_result"
    }
   ],
   "source": [
    "C2 = mf.matmat_prod2(A, B)\n",
    "C2"
   ]
  },
  {
   "cell_type": "code",
   "execution_count": 5,
   "metadata": {},
   "outputs": [
    {
     "data": {
      "text/plain": [
       "array([[ 7., 11., 12.],\n",
       "       [10., 16., 16.],\n",
       "       [17., 28., 24.]])"
      ]
     },
     "execution_count": 5,
     "metadata": {},
     "output_type": "execute_result"
    }
   ],
   "source": [
    "C3 = mf.matmat_prod3(A, B)\n",
    "C3"
   ]
  },
  {
   "cell_type": "code",
   "execution_count": 6,
   "metadata": {},
   "outputs": [
    {
     "data": {
      "text/plain": [
       "array([[ 7., 11., 12.],\n",
       "       [10., 16., 16.],\n",
       "       [17., 28., 24.]])"
      ]
     },
     "execution_count": 6,
     "metadata": {},
     "output_type": "execute_result"
    }
   ],
   "source": [
    "C4 = mf.matmat_prod4(A, B)\n",
    "C4"
   ]
  },
  {
   "cell_type": "code",
   "execution_count": 7,
   "metadata": {},
   "outputs": [
    {
     "data": {
      "text/plain": [
       "array([[ 7., 11., 12.],\n",
       "       [10., 16., 16.],\n",
       "       [17., 28., 24.]])"
      ]
     },
     "execution_count": 7,
     "metadata": {},
     "output_type": "execute_result"
    }
   ],
   "source": [
    "C5 = mf.matmat_prod5(A, B)\n",
    "C5"
   ]
  },
  {
   "cell_type": "code",
   "execution_count": 8,
   "metadata": {},
   "outputs": [
    {
     "name": "stdout",
     "output_type": "stream",
     "text": [
      "2 2\n"
     ]
    }
   ],
   "source": [
    "print A.ndim, B.ndim"
   ]
  },
  {
   "cell_type": "code",
   "execution_count": 9,
   "metadata": {},
   "outputs": [
    {
     "ename": "AssertionError",
     "evalue": "2D arrays must have the same shape.",
     "output_type": "error",
     "traceback": [
      "\u001b[0;31m---------------------------------------------------------------------------\u001b[0m",
      "\u001b[0;31mAssertionError\u001b[0m                            Traceback (most recent call last)",
      "\u001b[0;32m<ipython-input-9-6660ebe43f3d>\u001b[0m in \u001b[0;36m<module>\u001b[0;34m()\u001b[0m\n\u001b[0;32m----> 1\u001b[0;31m \u001b[0mmf\u001b[0m\u001b[0;34m.\u001b[0m\u001b[0mhadamard\u001b[0m\u001b[0;34m(\u001b[0m\u001b[0mA\u001b[0m\u001b[0;34m,\u001b[0m \u001b[0mB\u001b[0m\u001b[0;34m)\u001b[0m\u001b[0;34m\u001b[0m\u001b[0m\n\u001b[0m",
      "\u001b[0;32m/Users/admin/MCOM/swc-python_2019/my_functions.pyc\u001b[0m in \u001b[0;36mhadamard\u001b[0;34m(x, y)\u001b[0m\n\u001b[1;32m     87\u001b[0m             \u001b[0mz\u001b[0m\u001b[0;34m[\u001b[0m\u001b[0mi\u001b[0m\u001b[0;34m]\u001b[0m \u001b[0;34m=\u001b[0m \u001b[0mx\u001b[0m\u001b[0;34m[\u001b[0m\u001b[0mi\u001b[0m\u001b[0;34m]\u001b[0m\u001b[0;34m*\u001b[0m\u001b[0my\u001b[0m\u001b[0;34m[\u001b[0m\u001b[0mi\u001b[0m\u001b[0;34m]\u001b[0m\u001b[0;34m\u001b[0m\u001b[0m\n\u001b[1;32m     88\u001b[0m     \u001b[0;32melse\u001b[0m\u001b[0;34m:\u001b[0m\u001b[0;34m\u001b[0m\u001b[0m\n\u001b[0;32m---> 89\u001b[0;31m         \u001b[0;32massert\u001b[0m \u001b[0mx\u001b[0m\u001b[0;34m.\u001b[0m\u001b[0mshape\u001b[0m \u001b[0;34m==\u001b[0m \u001b[0my\u001b[0m\u001b[0;34m.\u001b[0m\u001b[0mshape\u001b[0m\u001b[0;34m,\u001b[0m \u001b[0;34m'2D arrays must have the same shape.'\u001b[0m\u001b[0;34m\u001b[0m\u001b[0m\n\u001b[0m\u001b[1;32m     90\u001b[0m         \u001b[0;32mfor\u001b[0m \u001b[0mi\u001b[0m \u001b[0;32min\u001b[0m \u001b[0mrange\u001b[0m\u001b[0;34m(\u001b[0m\u001b[0mx\u001b[0m\u001b[0;34m.\u001b[0m\u001b[0msize\u001b[0m\u001b[0;34m)\u001b[0m\u001b[0;34m:\u001b[0m\u001b[0;34m\u001b[0m\u001b[0m\n\u001b[1;32m     91\u001b[0m             \u001b[0mz\u001b[0m\u001b[0;34m[\u001b[0m\u001b[0mi\u001b[0m\u001b[0;34m]\u001b[0m \u001b[0;34m=\u001b[0m \u001b[0mx\u001b[0m\u001b[0;34m[\u001b[0m\u001b[0mi\u001b[0m\u001b[0;34m]\u001b[0m\u001b[0;34m*\u001b[0m\u001b[0my\u001b[0m\u001b[0;34m[\u001b[0m\u001b[0mi\u001b[0m\u001b[0;34m]\u001b[0m\u001b[0;34m\u001b[0m\u001b[0m\n",
      "\u001b[0;31mAssertionError\u001b[0m: 2D arrays must have the same shape."
     ]
    }
   ],
   "source": [
    "mf.hadamard(A, B)"
   ]
  },
  {
   "cell_type": "code",
   "execution_count": null,
   "metadata": {},
   "outputs": [],
   "source": []
  },
  {
   "cell_type": "code",
   "execution_count": null,
   "metadata": {},
   "outputs": [],
   "source": []
  },
  {
   "cell_type": "code",
   "execution_count": null,
   "metadata": {},
   "outputs": [],
   "source": []
  },
  {
   "cell_type": "code",
   "execution_count": null,
   "metadata": {},
   "outputs": [],
   "source": []
  },
  {
   "cell_type": "code",
   "execution_count": null,
   "metadata": {},
   "outputs": [],
   "source": []
  },
  {
   "cell_type": "code",
   "execution_count": null,
   "metadata": {},
   "outputs": [],
   "source": [
    "theta = 0.\n",
    "R1 = mf.R1(theta)\n",
    "R1"
   ]
  },
  {
   "cell_type": "code",
   "execution_count": null,
   "metadata": {},
   "outputs": [],
   "source": [
    "R2 = mf.R2(theta)\n",
    "R2"
   ]
  },
  {
   "cell_type": "code",
   "execution_count": null,
   "metadata": {},
   "outputs": [],
   "source": [
    "R3 = mf.R3(theta)\n",
    "R3"
   ]
  },
  {
   "cell_type": "code",
   "execution_count": null,
   "metadata": {},
   "outputs": [],
   "source": [
    "I = np.identity(3)\n",
    "I"
   ]
  },
  {
   "cell_type": "code",
   "execution_count": null,
   "metadata": {},
   "outputs": [],
   "source": [
    "E = np.array([[2,3,4],[5,6,7]])\n",
    "F = np.array([[2,3,4],[5,6,7]])\n",
    "E*F"
   ]
  },
  {
   "cell_type": "code",
   "execution_count": null,
   "metadata": {},
   "outputs": [],
   "source": []
  }
 ],
 "metadata": {
  "kernelspec": {
   "display_name": "Python 2",
   "language": "python",
   "name": "python2"
  },
  "language_info": {
   "codemirror_mode": {
    "name": "ipython",
    "version": 2
   },
   "file_extension": ".py",
   "mimetype": "text/x-python",
   "name": "python",
   "nbconvert_exporter": "python",
   "pygments_lexer": "ipython2",
   "version": "2.7.11"
  }
 },
 "nbformat": 4,
 "nbformat_minor": 2
}
