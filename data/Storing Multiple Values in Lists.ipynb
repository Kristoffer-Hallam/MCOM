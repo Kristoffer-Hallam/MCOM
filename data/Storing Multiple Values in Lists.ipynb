{
 "cells": [
  {
   "cell_type": "code",
   "execution_count": 1,
   "metadata": {
    "collapsed": false
   },
   "outputs": [
    {
     "name": "stdout",
     "output_type": "stream",
     "text": [
      "odds are: [1, 3, 5, 7]\n"
     ]
    }
   ],
   "source": [
    "odds = [1,3,5,7]\n",
    "print 'odds are:', odds"
   ]
  },
  {
   "cell_type": "code",
   "execution_count": 2,
   "metadata": {
    "collapsed": false
   },
   "outputs": [
    {
     "name": "stdout",
     "output_type": "stream",
     "text": [
      "first and last: 1 and 7\n"
     ]
    }
   ],
   "source": [
    "print 'first and last:', odds[0], 'and',odds[-1]"
   ]
  },
  {
   "cell_type": "code",
   "execution_count": 3,
   "metadata": {
    "collapsed": false
   },
   "outputs": [
    {
     "name": "stdout",
     "output_type": "stream",
     "text": [
      "1\n",
      "3\n",
      "5\n",
      "7\n"
     ]
    }
   ],
   "source": [
    "for number in odds:\n",
    "    print(number)"
   ]
  },
  {
   "cell_type": "markdown",
   "metadata": {},
   "source": [
    "### Changing names in a string array"
   ]
  },
  {
   "cell_type": "code",
   "execution_count": 4,
   "metadata": {
    "collapsed": false
   },
   "outputs": [
    {
     "name": "stdout",
     "output_type": "stream",
     "text": [
      "name is originally: ['Newton', 'Darwing', 'Turing']\n",
      "final value of names: ['Newton', 'Darwin', 'Turing']\n"
     ]
    }
   ],
   "source": [
    "names = ['Newton', 'Darwing', 'Turing'] # type in Darwin's name\n",
    "print 'name is originally:', names\n",
    "names[1] = 'Darwin' # correct the name\n",
    "print 'final value of names:', names"
   ]
  },
  {
   "cell_type": "markdown",
   "metadata": {},
   "source": [
    "works, but changing letters of an individual word does not."
   ]
  },
  {
   "cell_type": "code",
   "execution_count": 5,
   "metadata": {
    "collapsed": false
   },
   "outputs": [
    {
     "ename": "TypeError",
     "evalue": "'str' object does not support item assignment",
     "output_type": "error",
     "traceback": [
      "\u001b[0;31m---------------------------------------------------------------------------\u001b[0m",
      "\u001b[0;31mTypeError\u001b[0m                                 Traceback (most recent call last)",
      "\u001b[0;32m<ipython-input-5-220df48aeb2e>\u001b[0m in \u001b[0;36m<module>\u001b[0;34m()\u001b[0m\n\u001b[1;32m      1\u001b[0m \u001b[0mname\u001b[0m \u001b[0;34m=\u001b[0m \u001b[0;34m'Bell'\u001b[0m\u001b[0;34m\u001b[0m\u001b[0m\n\u001b[0;32m----> 2\u001b[0;31m \u001b[0mname\u001b[0m\u001b[0;34m[\u001b[0m\u001b[0;36m0\u001b[0m\u001b[0;34m]\u001b[0m \u001b[0;34m=\u001b[0m \u001b[0;34m'b'\u001b[0m\u001b[0;34m\u001b[0m\u001b[0m\n\u001b[0m",
      "\u001b[0;31mTypeError\u001b[0m: 'str' object does not support item assignment"
     ]
    }
   ],
   "source": [
    "name = 'Bell'\n",
    "name[0] = 'b'"
   ]
  },
  {
   "cell_type": "markdown",
   "metadata": {},
   "source": [
    "## Nested lists"
   ]
  },
  {
   "cell_type": "code",
   "execution_count": 6,
   "metadata": {
    "collapsed": true
   },
   "outputs": [],
   "source": [
    "x = [['pepper','zucchini','onion'],\n",
    "     ['cabbage','lettuce','garlic'],\n",
    "    ['apple','pear','banana']]"
   ]
  },
  {
   "cell_type": "code",
   "execution_count": 7,
   "metadata": {
    "collapsed": false
   },
   "outputs": [
    {
     "name": "stdout",
     "output_type": "stream",
     "text": [
      "[['pepper', 'zucchini', 'onion']]\n"
     ]
    }
   ],
   "source": [
    "print [x[0]]"
   ]
  },
  {
   "cell_type": "code",
   "execution_count": 8,
   "metadata": {
    "collapsed": false
   },
   "outputs": [
    {
     "name": "stdout",
     "output_type": "stream",
     "text": [
      "['pepper', 'zucchini', 'onion']\n"
     ]
    }
   ],
   "source": [
    "print x[0]"
   ]
  },
  {
   "cell_type": "code",
   "execution_count": 9,
   "metadata": {
    "collapsed": false
   },
   "outputs": [
    {
     "name": "stdout",
     "output_type": "stream",
     "text": [
      "pepper\n"
     ]
    }
   ],
   "source": [
    "print x[0][0]"
   ]
  },
  {
   "cell_type": "markdown",
   "metadata": {},
   "source": [
    "## Ways to change content of lists"
   ]
  },
  {
   "cell_type": "code",
   "execution_count": 10,
   "metadata": {
    "collapsed": false
   },
   "outputs": [
    {
     "name": "stdout",
     "output_type": "stream",
     "text": [
      "odds after adding a value: [1, 3, 5, 7, 11]\n"
     ]
    }
   ],
   "source": [
    "odds.append(11)\n",
    "print 'odds after adding a value:', odds"
   ]
  },
  {
   "cell_type": "code",
   "execution_count": 11,
   "metadata": {
    "collapsed": false
   },
   "outputs": [
    {
     "name": "stdout",
     "output_type": "stream",
     "text": [
      "odds after removing the first element: [3, 5, 7, 11]\n"
     ]
    }
   ],
   "source": [
    "del odds[0]\n",
    "print 'odds after removing the first element:', odds"
   ]
  },
  {
   "cell_type": "code",
   "execution_count": 12,
   "metadata": {
    "collapsed": false
   },
   "outputs": [
    {
     "name": "stdout",
     "output_type": "stream",
     "text": [
      "odds after reversing: [11, 7, 5, 3]\n"
     ]
    }
   ],
   "source": [
    "odds.reverse()\n",
    "print 'odds after reversing:', odds"
   ]
  },
  {
   "cell_type": "markdown",
   "metadata": {},
   "source": [
    "## Modifying after multiple declaration\n",
    "\n",
    "If two lists are linked together $[a] = [b]$ then if one is changed the other suffers the same change."
   ]
  },
  {
   "cell_type": "code",
   "execution_count": 13,
   "metadata": {
    "collapsed": false
   },
   "outputs": [
    {
     "name": "stdout",
     "output_type": "stream",
     "text": [
      "primes: [1, 3, 5, 7, 2]\n",
      "odds: [1, 3, 5, 7, 2]\n"
     ]
    }
   ],
   "source": [
    "odds = [1,3,5,7]\n",
    "primes = odds\n",
    "primes += [2]\n",
    "print 'primes:', primes\n",
    "print 'odds:', odds"
   ]
  },
  {
   "cell_type": "markdown",
   "metadata": {},
   "source": [
    "## Copying a list without future changing"
   ]
  },
  {
   "cell_type": "code",
   "execution_count": 14,
   "metadata": {
    "collapsed": false
   },
   "outputs": [
    {
     "name": "stdout",
     "output_type": "stream",
     "text": [
      "primes: [1, 3, 5, 7, 2]\n",
      "odds: [1, 3, 5, 7]\n"
     ]
    }
   ],
   "source": [
    "odds = [1,3,5,7]\n",
    "primes = list(odds)\n",
    "primes += [2]\n",
    "print 'primes:', primes\n",
    "print 'odds:', odds"
   ]
  },
  {
   "cell_type": "markdown",
   "metadata": {},
   "source": [
    "## Turn a string into a list REFAZER"
   ]
  },
  {
   "cell_type": "code",
   "execution_count": 17,
   "metadata": {
    "collapsed": false
   },
   "outputs": [
    {
     "data": {
      "text/plain": [
       "['h', 'e', 'l', 'l', 'o']"
      ]
     },
     "execution_count": 17,
     "metadata": {},
     "output_type": "execute_result"
    }
   ],
   "source": [
    "c = 'hello'\n",
    "my_list = []\n",
    "for s in c:\n",
    "    my_list.append(s)\n",
    "my_list    "
   ]
  },
  {
   "cell_type": "markdown",
   "metadata": {},
   "source": [
    "## Tuples and exchanges"
   ]
  },
  {
   "cell_type": "code",
   "execution_count": 18,
   "metadata": {
    "collapsed": false
   },
   "outputs": [
    {
     "name": "stdout",
     "output_type": "stream",
     "text": [
      "L R L\n"
     ]
    }
   ],
   "source": [
    "left = 'L'\n",
    "right = 'R'\n",
    "\n",
    "temp = left\n",
    "left = right\n",
    "right = temp\n",
    "print temp, left, right"
   ]
  },
  {
   "cell_type": "code",
   "execution_count": 19,
   "metadata": {
    "collapsed": false
   },
   "outputs": [
    {
     "name": "stdout",
     "output_type": "stream",
     "text": [
      "L R\n"
     ]
    }
   ],
   "source": [
    "left , right = right, left\n",
    "print left, right"
   ]
  },
  {
   "cell_type": "markdown",
   "metadata": {},
   "source": [
    "## Overloading"
   ]
  },
  {
   "cell_type": "code",
   "execution_count": 20,
   "metadata": {
    "collapsed": false
   },
   "outputs": [
    {
     "name": "stdout",
     "output_type": "stream",
     "text": [
      "[2, 4, 6, 8, 10, 2, 4, 6, 8, 10]\n"
     ]
    }
   ],
   "source": [
    "counts = [2, 4, 6, 8, 10]\n",
    "repeats = counts * 2\n",
    "print repeats"
   ]
  }
 ],
 "metadata": {
  "kernelspec": {
   "display_name": "Python 2",
   "language": "python",
   "name": "python2"
  },
  "language_info": {
   "codemirror_mode": {
    "name": "ipython",
    "version": 2
   },
   "file_extension": ".py",
   "mimetype": "text/x-python",
   "name": "python",
   "nbconvert_exporter": "python",
   "pygments_lexer": "ipython2",
   "version": "2.7.11"
  }
 },
 "nbformat": 4,
 "nbformat_minor": 0
}
