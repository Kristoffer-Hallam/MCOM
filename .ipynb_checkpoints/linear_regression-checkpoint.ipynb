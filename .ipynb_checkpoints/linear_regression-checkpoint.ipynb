{
 "cells": [
  {
   "cell_type": "markdown",
   "metadata": {},
   "source": [
    "### Linear Regression of a line\n",
    "\n",
    "We want to estimate the parameters of a line. They are the angular and linear coefficients. However, the fundamental equation is:\n",
    "\\begin{equation}\n",
    "\\mathbf{d} = \\mathbf{G} \\mathbf{p}\n",
    "\\end{equation}\n",
    "where $\\mathbf{d}$ is a $N \\times 1$ data vector, $\\mathbf{p}$ is a $M \\times 1$ parameter vector and $\\mathbf{G}$ is the $N \\times M$ sensitivity matrix.\n",
    "\n",
    "Let $N=5$ and $M$ will always be equal to 2. Then\n",
    "\n",
    "\\begin{equation}\n",
    "\\begin{bmatrix}\n",
    "d_1 \\\\ d_2 \\\\ d_3 \\\\ d_4 \\\\ d_5\n",
    "\\end{bmatrix} =\n",
    "\\begin{bmatrix}\n",
    "g_{11} & g_{12} \\\\\n",
    "g_{21} & g_{22} \\\\\n",
    "g_{31} & g_{32} \\\\\n",
    "g_{41} & g_{42} \\\\\n",
    "g_{51} & g_{52}\n",
    "\\end{bmatrix}\n",
    "\\begin{bmatrix}\n",
    "a \\\\ b\n",
    "\\end{bmatrix}\n",
    "\\end{equation}\n",
    "\n",
    "But the equation of the line is\n",
    "\\begin{equation}\n",
    "d = ax + b\n",
    "\\end{equation}\n",
    "Thus\n",
    "\\begin{equation}\n",
    "\\mathbf{G} = \n",
    "\\begin{bmatrix}\n",
    "x_{1} & 1 \\\\\n",
    "x_{2} & 1 \\\\\n",
    "x_{3} & 1 \\\\\n",
    "x_{4} & 1 \\\\\n",
    "x_{5} & 1 \\\\\n",
    "\\end{bmatrix}\n",
    "\\end{equation}"
   ]
  },
  {
   "cell_type": "code",
   "execution_count": 1,
   "metadata": {},
   "outputs": [],
   "source": [
    "import numpy as np"
   ]
  },
  {
   "cell_type": "code",
   "execution_count": 2,
   "metadata": {},
   "outputs": [
    {
     "data": {
      "text/plain": [
       "array([0, 1, 2, 3, 4])"
      ]
     },
     "execution_count": 2,
     "metadata": {},
     "output_type": "execute_result"
    }
   ],
   "source": [
    "x = np.arange(0,5)\n",
    "x"
   ]
  },
  {
   "cell_type": "code",
   "execution_count": 3,
   "metadata": {},
   "outputs": [
    {
     "data": {
      "text/plain": [
       "array([ 7.,  9., 12.,  2.,  4.])"
      ]
     },
     "execution_count": 3,
     "metadata": {},
     "output_type": "execute_result"
    }
   ],
   "source": [
    "d = np.array([7., 9., 12., 2., 4.])\n",
    "d"
   ]
  },
  {
   "cell_type": "code",
   "execution_count": 4,
   "metadata": {},
   "outputs": [
    {
     "data": {
      "text/plain": [
       "array([[0., 1.],\n",
       "       [1., 1.],\n",
       "       [2., 1.],\n",
       "       [3., 1.],\n",
       "       [4., 1.]])"
      ]
     },
     "execution_count": 4,
     "metadata": {},
     "output_type": "execute_result"
    }
   ],
   "source": [
    "G = np.zeros((5,2))\n",
    "G[:,0] = x\n",
    "G[:,1] = np.ones_like(x)\n",
    "G"
   ]
  },
  {
   "cell_type": "markdown",
   "metadata": {},
   "source": [
    "The least squares solution of the the problem is\n",
    "\\begin{equation}\n",
    "\\mathbf{p} = \\left(\\mathbf{G}^{\\top} \\mathbf{G}\\right)^{-1} \\mathbf{G}^{\\top} \\mathbf{d}\n",
    "\\end{equation}"
   ]
  },
  {
   "cell_type": "code",
   "execution_count": 5,
   "metadata": {},
   "outputs": [
    {
     "data": {
      "text/plain": [
       "array([-1.3,  9.4])"
      ]
     },
     "execution_count": 5,
     "metadata": {},
     "output_type": "execute_result"
    }
   ],
   "source": [
    "A = np.dot(G.T, G)\n",
    "d_ = np.dot(G.T, d)\n",
    "p = np.linalg.solve(A, d_)\n",
    "p"
   ]
  },
  {
   "cell_type": "code",
   "execution_count": null,
   "metadata": {},
   "outputs": [],
   "source": []
  }
 ],
 "metadata": {
  "kernelspec": {
   "display_name": "Python 2",
   "language": "python",
   "name": "python2"
  },
  "language_info": {
   "codemirror_mode": {
    "name": "ipython",
    "version": 2
   },
   "file_extension": ".py",
   "mimetype": "text/x-python",
   "name": "python",
   "nbconvert_exporter": "python",
   "pygments_lexer": "ipython2",
   "version": "2.7.11"
  }
 },
 "nbformat": 4,
 "nbformat_minor": 2
}
